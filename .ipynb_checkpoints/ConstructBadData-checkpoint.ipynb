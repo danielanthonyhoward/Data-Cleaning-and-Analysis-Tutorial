{
 "cells": [
  {
   "cell_type": "code",
   "execution_count": 1,
   "id": "23fcd15e",
   "metadata": {},
   "outputs": [],
   "source": [
    "import pandas as pd\n",
    "import numpy as np"
   ]
  },
  {
   "cell_type": "code",
   "execution_count": 8,
   "id": "1ff07d09",
   "metadata": {},
   "outputs": [],
   "source": [
    "temperature = pd.read_csv(r'Lecture Data\\temperature_DK.csv')\n",
    "cases = pd.read_csv(r'Lecture Data\\Municipality_cases_time_series_formatted.csv')\n",
    "tested = pd.read_csv(r'Lecture Data\\Municipality_tested_persons_time_series_formatted.csv')"
   ]
  },
  {
   "cell_type": "code",
   "execution_count": 9,
   "id": "ebd79570",
   "metadata": {},
   "outputs": [
    {
     "data": {
      "text/html": [
       "<div>\n",
       "<style scoped>\n",
       "    .dataframe tbody tr th:only-of-type {\n",
       "        vertical-align: middle;\n",
       "    }\n",
       "\n",
       "    .dataframe tbody tr th {\n",
       "        vertical-align: top;\n",
       "    }\n",
       "\n",
       "    .dataframe thead th {\n",
       "        text-align: right;\n",
       "    }\n",
       "</style>\n",
       "<table border=\"1\" class=\"dataframe\">\n",
       "  <thead>\n",
       "    <tr style=\"text-align: right;\">\n",
       "      <th></th>\n",
       "      <th>Date</th>\n",
       "      <th>Kommune</th>\n",
       "      <th>Tested</th>\n",
       "    </tr>\n",
       "  </thead>\n",
       "  <tbody>\n",
       "    <tr>\n",
       "      <th>0</th>\n",
       "      <td>02/02/2020 00.00</td>\n",
       "      <td>Copenhagen</td>\n",
       "      <td>0</td>\n",
       "    </tr>\n",
       "    <tr>\n",
       "      <th>1</th>\n",
       "      <td>02/02/2020 00.00</td>\n",
       "      <td>Frederiksberg</td>\n",
       "      <td>0</td>\n",
       "    </tr>\n",
       "    <tr>\n",
       "      <th>2</th>\n",
       "      <td>02/02/2020 00.00</td>\n",
       "      <td>Dragør</td>\n",
       "      <td>0</td>\n",
       "    </tr>\n",
       "    <tr>\n",
       "      <th>3</th>\n",
       "      <td>02/02/2020 00.00</td>\n",
       "      <td>Tårnby</td>\n",
       "      <td>0</td>\n",
       "    </tr>\n",
       "    <tr>\n",
       "      <th>4</th>\n",
       "      <td>02/02/2020 00.00</td>\n",
       "      <td>Albertslund</td>\n",
       "      <td>0</td>\n",
       "    </tr>\n",
       "    <tr>\n",
       "      <th>...</th>\n",
       "      <td>...</td>\n",
       "      <td>...</td>\n",
       "      <td>...</td>\n",
       "    </tr>\n",
       "    <tr>\n",
       "      <th>53895</th>\n",
       "      <td>09/08/2021 00.00</td>\n",
       "      <td>Rebild</td>\n",
       "      <td>0</td>\n",
       "    </tr>\n",
       "    <tr>\n",
       "      <th>53896</th>\n",
       "      <td>09/08/2021 00.00</td>\n",
       "      <td>Thisted</td>\n",
       "      <td>1</td>\n",
       "    </tr>\n",
       "    <tr>\n",
       "      <th>53897</th>\n",
       "      <td>09/08/2021 00.00</td>\n",
       "      <td>Vesthimmerlands</td>\n",
       "      <td>0</td>\n",
       "    </tr>\n",
       "    <tr>\n",
       "      <th>53898</th>\n",
       "      <td>09/08/2021 00.00</td>\n",
       "      <td>Aalborg</td>\n",
       "      <td>1</td>\n",
       "    </tr>\n",
       "    <tr>\n",
       "      <th>53899</th>\n",
       "      <td>09/08/2021 00.00</td>\n",
       "      <td>NaN</td>\n",
       "      <td>0</td>\n",
       "    </tr>\n",
       "  </tbody>\n",
       "</table>\n",
       "<p>53900 rows × 3 columns</p>\n",
       "</div>"
      ],
      "text/plain": [
       "                   Date          Kommune  Tested\n",
       "0      02/02/2020 00.00       Copenhagen       0\n",
       "1      02/02/2020 00.00    Frederiksberg       0\n",
       "2      02/02/2020 00.00           Dragør       0\n",
       "3      02/02/2020 00.00           Tårnby       0\n",
       "4      02/02/2020 00.00      Albertslund       0\n",
       "...                 ...              ...     ...\n",
       "53895  09/08/2021 00.00           Rebild       0\n",
       "53896  09/08/2021 00.00          Thisted       1\n",
       "53897  09/08/2021 00.00  Vesthimmerlands       0\n",
       "53898  09/08/2021 00.00          Aalborg       1\n",
       "53899  09/08/2021 00.00              NaN       0\n",
       "\n",
       "[53900 rows x 3 columns]"
      ]
     },
     "execution_count": 9,
     "metadata": {},
     "output_type": "execute_result"
    }
   ],
   "source": [
    "tested"
   ]
  }
 ],
 "metadata": {
  "kernelspec": {
   "display_name": "Python 3 (ipykernel)",
   "language": "python",
   "name": "python3"
  },
  "language_info": {
   "codemirror_mode": {
    "name": "ipython",
    "version": 3
   },
   "file_extension": ".py",
   "mimetype": "text/x-python",
   "name": "python",
   "nbconvert_exporter": "python",
   "pygments_lexer": "ipython3",
   "version": "3.8.8"
  }
 },
 "nbformat": 4,
 "nbformat_minor": 5
}
