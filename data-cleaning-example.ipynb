{
 "cells": [
  {
   "cell_type": "code",
   "execution_count": 6,
   "id": "c49c6af9",
   "metadata": {},
   "outputs": [],
   "source": [
    "import pandas as pd\n",
    "#from google.colab import drive #allows to mount drive"
   ]
  },
  {
   "cell_type": "markdown",
   "id": "1834e2a9",
   "metadata": {},
   "source": [
    "# Import Data"
   ]
  },
  {
   "cell_type": "code",
   "execution_count": 1,
   "id": "3eac3932",
   "metadata": {},
   "outputs": [],
   "source": []
  },
  {
   "cell_type": "code",
   "execution_count": 2,
   "id": "c19229e9",
   "metadata": {},
   "outputs": [],
   "source": [
    "#drive.mount('/content/drive')"
   ]
  },
  {
   "cell_type": "code",
   "execution_count": 3,
   "id": "96e82e8c",
   "metadata": {},
   "outputs": [],
   "source": [
    "data = pd.read_pickle(r'dirty_data')"
   ]
  },
  {
   "cell_type": "markdown",
   "id": "6064c82d",
   "metadata": {},
   "source": [
    "# Packages"
   ]
  },
  {
   "cell_type": "markdown",
   "id": "5cd6d02e",
   "metadata": {},
   "source": [
    "# Identify missing data"
   ]
  },
  {
   "cell_type": "markdown",
   "id": "d720a6bb",
   "metadata": {},
   "source": [
    "# Deal with outliers"
   ]
  },
  {
   "cell_type": "markdown",
   "id": "af42ec3f",
   "metadata": {},
   "source": [
    "# Examine repetitive and duplicates data"
   ]
  },
  {
   "attachments": {},
   "cell_type": "markdown",
   "id": "30e20655",
   "metadata": {},
   "source": [
    "# Adjust inconsistent data"
   ]
  }
 ],
 "metadata": {
  "kernelspec": {
   "display_name": "Python 3 (ipykernel)",
   "language": "python",
   "name": "python3"
  },
  "language_info": {
   "codemirror_mode": {
    "name": "ipython",
    "version": 3
   },
   "file_extension": ".py",
   "mimetype": "text/x-python",
   "name": "python",
   "nbconvert_exporter": "python",
   "pygments_lexer": "ipython3",
   "version": "3.8.8"
  }
 },
 "nbformat": 4,
 "nbformat_minor": 5
}
